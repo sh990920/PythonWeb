{
 "cells": [
  {
   "cell_type": "markdown",
   "id": "1040ead4-da82-4b47-bd9a-59cc3f7b14b5",
   "metadata": {},
   "source": [
    "# 파일 관리\n",
    "- 웹 사이트를 꾸며줄 css나 이미지 파일 등을 처리하는 방법"
   ]
  },
  {
   "cell_type": "markdown",
   "id": "cbbe86ab-3c8c-48b7-8a4c-5bed1f86635f",
   "metadata": {},
   "source": [
    "## 포스트 목록 페이지에 부트스트랩 적용\n",
    "- WebProject3 의 blog_list.html을 복사해서 post_list.html에 덮어씌우기"
   ]
  },
  {
   "cell_type": "markdown",
   "id": "d21d553e-71cc-475e-8415-938a1b420eda",
   "metadata": {},
   "source": [
    "### HTML에서 css파일을 불러와 적용하는 과정\n",
    "1. 서버 접속(127.0.0.1:8000/blog/ 접속)\n",
    "2. 서버에서 클라이언트에 post_list.html 전송\n",
    "3. 클라이언트로부터 bootstrap.min.css 파일 요청 받음\n",
    "4. 클라이언트에 bootstrap.min.css 전송"
   ]
  },
  {
   "cell_type": "markdown",
   "id": "1f72ce49-6c45-4e3d-8b8a-07bd5b68b2a9",
   "metadata": {},
   "source": [
    "### MTV 구조\n",
    "- 각 앱에 templates 폴더의 html 파일은 정적인 파일이 아님\n",
    "    - html파일에는 빈칸들이 있고 views.py에 정의한 내용에 따라 빈칸을 채워서 사용자에게 정보를 제공\n",
    "    \n",
    "- css, js 파일은 html 파일과 다르게 고정된 내용만 제공하면 됨\n",
    "    - 따라서 웹 서버에서 특정 URL로 접근하면 해당 css, js 파일을 제공할 수 있도록 설정"
   ]
  },
  {
   "cell_type": "markdown",
   "id": "8c33c3eb-e34f-4f4e-8a28-93a4d96b5db0",
   "metadata": {},
   "source": [
    "## static 폴더 생성 후 css 파일 넣기\n",
    "- blog/static/blog/bootstarp 폴더에 부트스트랩 파일 넣기\n",
    "    - bootstrap.min.css\n",
    "    - bootstrap.min.css.map"
   ]
  },
  {
   "cell_type": "markdown",
   "id": "b2d95850-0886-46b0-8587-f121b4b75807",
   "metadata": {},
   "source": [
    "## CSS 파일 경로 지정\n",
    "- post_list.html 파일에서 static 파일을 사용하겠다고 선언\n",
    "- 부트스트랩 파일 링크 수정"
   ]
  },
  {
   "cell_type": "markdown",
   "id": "8b9028f2-0eba-43cf-93b7-46cbdc84acae",
   "metadata": {},
   "source": [
    "## 실제 포스트 내용이 표시되도록 수정\n",
    "- for 문을 이용해서 Blog Post가 반복되도록 수정"
   ]
  },
  {
   "cell_type": "markdown",
   "id": "c153a92d-8a63-4600-8e5c-c3a1015e7323",
   "metadata": {},
   "source": [
    "## 포스트 상세 페이지에 부트스트랩 적용"
   ]
  },
  {
   "cell_type": "markdown",
   "id": "c4010918-6cfb-4bc4-a391-fecf950ed7d3",
   "metadata": {},
   "source": [
    "## 포스트에 이미지 올리기\n",
    "- 해당 포스트와 관련 있는 이미지를 업로드 할 수 있도록 설정"
   ]
  },
  {
   "cell_type": "markdown",
   "id": "16003a38-44e2-40c2-9836-872c06c0997e",
   "metadata": {},
   "source": [
    "### 이미지 폴더 지정\n",
    "- 장고에서는 이미지 업로드를 위한 ImageField를 제공함\n",
    "    - ImageField를 사용하기 위해서는 사용자가 업로드한 이미지를 어디에 저장할지 먼저 설정해야 함\n",
    "    - 그리고 업로드된 이미지들이 모여있는 폴더의 URL을 어떻게 할지도 설정해야함"
   ]
  },
  {
   "cell_type": "markdown",
   "id": "af510539-e226-45ca-b1ca-b8b18d6ae07f",
   "metadata": {},
   "source": [
    "- 이미지 파일은 프로젝트 폴더 아래에 \"_media\"라는 이름의 폴더를 만들고 그 안에 저장하도록 설정됨\n",
    "- MEDIA_URL은 /media/로 지정하여 웹브라우저에서 도메인/media/ 라는 경로로 접속하면 미디어 파일을 사용하겠다는 의미"
   ]
  },
  {
   "cell_type": "markdown",
   "id": "3cdffc64-fa77-471d-b559-d05d5e1c1f96",
   "metadata": {
    "tags": []
   },
   "source": [
    "- models.py 수정\n",
    "    - ImageField\n",
    "        - upload_to : 이미지를 저장할 폴더의 경로 규칙을 지정\n",
    "            - blog 폴더 아래에 images 폴더 아래에 연도 폴더, 월 폴더, 일 폴더까지 내려간 뒤에 저장하도록 설정됨\n",
    "                - 한 폴더에 저장하지 않고 여러 폴더로 내려가서 저장하면 방문자가 웹사이트를 방문했을 때 서버에서 파일을 찾아오는 시간을 단축할 수 있음\n",
    "                - 한 폴더에 너무 많은 파일이 있으면 파일을 찾는 시간이 걸리지만, 폴더를 여러번 타고 들어가는 것은 시간에 큰 영향을 주지 않음\n",
    "        - blank=True : 해당 필드는 필수항목이 아님(not null)"
   ]
  },
  {
   "cell_type": "markdown",
   "id": "18b48f0a-c6ce-44c6-bbe6-342396eea58d",
   "metadata": {},
   "source": [
    "### 마이그레이션"
   ]
  },
  {
   "cell_type": "markdown",
   "id": "78269d62-f1bf-4c90-8916-f9dedbd70ae0",
   "metadata": {},
   "source": [
    "### 미디어 파일을 위한 URL 지정\n",
    "- 테스트 과정에서 오류가 발생한 이유는 아직 urls.py에서 media URL에 대한 설정을 하지 않았기 때문\n",
    "    - 프로젝트의 URL 설정을 해야한는 부분이기 때문에 django_prj/urls.py 파일을 수정"
   ]
  },
  {
   "cell_type": "markdown",
   "id": "8f5ffc0c-aa1d-466f-8dc8-b189427fac75",
   "metadata": {},
   "source": [
    "- 관리자 페이지에서 이미지 링크 테스트 후\n",
    "- 포스트 목록 페이지에서도 대표 이미지가 보이도록 수정"
   ]
  },
  {
   "cell_type": "markdown",
   "id": "7fc2f38d-38a7-462f-8c03-2fb33135fdd0",
   "metadata": {},
   "source": [
    "- 여러 개의 포스트 중 하나만 head_image에 그림 파일이 업로드되어 있는데 포스트 목록 페이지에서는 모든 포스트의 head iamge 경로를 html에 채우려고 하기 때문에 오류메세지가 발생\n",
    "    - 관리자 페이지에서 모든 포스트의 이미지를 채워주면 해결"
   ]
  },
  {
   "cell_type": "markdown",
   "id": "9860bfc8-7870-427a-9a78-d4a116f64594",
   "metadata": {},
   "source": [
    "### 포스트 상세 페이지에 이미지 나타내기\n",
    "- blog/post_detail.html 수정"
   ]
  },
  {
   "cell_type": "markdown",
   "id": "21a480d1-9e60-459b-a9c8-4407a8613b46",
   "metadata": {},
   "source": [
    "## 포스트에 파일 올리기\n",
    "- post 모델에 이미지뿐만아니라 다른 종류의 파일도 업로드하고 추후에 방문자가 다운로드 받을 수 있도록 설정"
   ]
  },
  {
   "cell_type": "markdown",
   "id": "e482a8c5-f702-49f3-9454-d50ea63af490",
   "metadata": {},
   "source": [
    "### file_upload 필드 생성\n",
    "- blog/models.py에 FileField로 필드 추가\n",
    "    - 사용법은 ImageField와 거의 동일"
   ]
  },
  {
   "cell_type": "markdown",
   "id": "af2dcf88-bd86-4cd8-bf85-879ff86a42a1",
   "metadata": {},
   "source": [
    "- 마이그레이션하여 데이터베이스에 변화된 내용을 적용"
   ]
  },
  {
   "cell_type": "markdown",
   "id": "e958eaa3-0eff-44b1-ac21-c6b304d1f882",
   "metadata": {},
   "source": [
    "### 파일 업로드 테스트\n",
    "- 관리자 페이지에서 포스트를 열어 필드 반영 테스트"
   ]
  }
 ],
 "metadata": {
  "kernelspec": {
   "display_name": "Python 3 (ipykernel)",
   "language": "python",
   "name": "python3"
  },
  "language_info": {
   "codemirror_mode": {
    "name": "ipython",
    "version": 3
   },
   "file_extension": ".py",
   "mimetype": "text/x-python",
   "name": "python",
   "nbconvert_exporter": "python",
   "pygments_lexer": "ipython3",
   "version": "3.10.9"
  }
 },
 "nbformat": 4,
 "nbformat_minor": 5
}
