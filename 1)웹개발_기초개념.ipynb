{
 "cells": [
  {
   "cell_type": "markdown",
   "id": "dc6105ca-7f55-48d4-8da0-c3597a1f5827",
   "metadata": {},
   "source": [
    "# 웹 개발의 의의\n",
    "- 과거에는 백엔드(back-end)개발에 템플릿만 붙여서 웹 개발을 진행\n",
    "    - 최근에는 각 기기의 화면 크기에 맞춰 알아서 조정되는 반응형 웹, 다양한 상호작용, 애니메이션 효과 등 사용자들의 이용경험을 향상시키기 위해 다양한 시도가 이루어지면서 프론트엔드와 백엔드의 구분이 명확해짐"
   ]
  },
  {
   "cell_type": "markdown",
   "id": "eda09ca0-37e7-48bb-961b-257c7eb0af01",
   "metadata": {},
   "source": [
    "## 웹의 구조\n",
    "<img src=\"./img/web-dev-flow.png\">"
   ]
  },
  {
   "cell_type": "code",
   "execution_count": null,
   "id": "a97a2bab-bedd-45db-9a0c-5e82f78a24b3",
   "metadata": {},
   "outputs": [],
   "source": []
  },
  {
   "cell_type": "code",
   "execution_count": null,
   "id": "e8ff96b6-57e1-4ba3-bf5b-c28e58d8e8f3",
   "metadata": {},
   "outputs": [],
   "source": []
  },
  {
   "cell_type": "code",
   "execution_count": null,
   "id": "047460b4-8d64-4ecc-9812-924eef226528",
   "metadata": {},
   "outputs": [],
   "source": []
  },
  {
   "cell_type": "code",
   "execution_count": null,
   "id": "7f045ff4-64d6-4436-a7ac-c401b6799c6c",
   "metadata": {},
   "outputs": [],
   "source": []
  },
  {
   "cell_type": "code",
   "execution_count": null,
   "id": "1f1fd4fd-069a-46be-9333-a9bbfa6ad23a",
   "metadata": {},
   "outputs": [],
   "source": []
  },
  {
   "cell_type": "code",
   "execution_count": null,
   "id": "ed760dc7-ae91-4b6c-81cf-5bdee09d22bb",
   "metadata": {},
   "outputs": [],
   "source": []
  },
  {
   "cell_type": "code",
   "execution_count": null,
   "id": "4e318caa-c01a-4aff-8f29-9e6003e3e7d5",
   "metadata": {},
   "outputs": [],
   "source": []
  },
  {
   "cell_type": "code",
   "execution_count": null,
   "id": "bbc756b3-31ac-46fe-a0e7-f19bff7f0705",
   "metadata": {},
   "outputs": [],
   "source": []
  },
  {
   "cell_type": "code",
   "execution_count": null,
   "id": "a0342296-c885-42a4-bdb6-54be62a44b9b",
   "metadata": {},
   "outputs": [],
   "source": []
  },
  {
   "cell_type": "code",
   "execution_count": null,
   "id": "7515fae5-8e57-4f92-b2c8-59e24e48f2aa",
   "metadata": {},
   "outputs": [],
   "source": []
  },
  {
   "cell_type": "code",
   "execution_count": null,
   "id": "1e407406-12a8-4e9e-a358-bba8af4f60e8",
   "metadata": {},
   "outputs": [],
   "source": []
  },
  {
   "cell_type": "code",
   "execution_count": null,
   "id": "8a70c85b-0787-44de-80a2-4b4cde9cd445",
   "metadata": {},
   "outputs": [],
   "source": []
  },
  {
   "cell_type": "code",
   "execution_count": null,
   "id": "bb684941-8e7e-4bef-8fbc-1b4ec84e4434",
   "metadata": {},
   "outputs": [],
   "source": []
  },
  {
   "cell_type": "code",
   "execution_count": null,
   "id": "2e960139-10cf-450b-9eee-feda369013aa",
   "metadata": {},
   "outputs": [],
   "source": []
  },
  {
   "cell_type": "code",
   "execution_count": null,
   "id": "95a88617-7fed-4e96-81fc-5d3cc4d8539f",
   "metadata": {},
   "outputs": [],
   "source": []
  }
 ],
 "metadata": {
  "kernelspec": {
   "display_name": "Python 3 (ipykernel)",
   "language": "python",
   "name": "python3"
  },
  "language_info": {
   "codemirror_mode": {
    "name": "ipython",
    "version": 3
   },
   "file_extension": ".py",
   "mimetype": "text/x-python",
   "name": "python",
   "nbconvert_exporter": "python",
   "pygments_lexer": "ipython3",
   "version": "3.10.9"
  }
 },
 "nbformat": 4,
 "nbformat_minor": 5
}
