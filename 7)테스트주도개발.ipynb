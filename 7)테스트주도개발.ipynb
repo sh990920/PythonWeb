{
 "cells": [
  {
   "cell_type": "markdown",
   "id": "8d30a530-29ec-451c-9f61-29e2c542472e",
   "metadata": {},
   "source": [
    "# 테스트 주도 개발(Test driven development : TDD)\n",
    "<div style=\"text-align:center\">\n",
    "    <img src=\"./img/tdd_img.png\">\n",
    "</div>\n",
    "\n",
    "- 일종의 개발 방식 또는 개발 패턴\n",
    "- 무언가를 개발할 때 바로 개발부터 하는 것이 아니라 개발하려는 항목에 대한 점검 사항을 테스트 코드로 만들고 그 테스트를 통과시키는 방식으로 개발을 진행하는 방법\n",
    "    \n",
    "- 지금까지의 개발 과정\n",
    "    - 구현 : 만들고 싶은 요소의 소스코드를 작성\n",
    "    - 웹 브라우저로 확인 : 웹 브라우저에서 잘 작동하는지 일일이 테스트\n",
    "    - 성공 : 제대로 작동하지 않으면 다시 소스 코드를 수정하면서 성공시킴\n",
    "    - 개선점 찾기 : 다음에는 무엇을 더 개선해야 할지, 무엇을 개발해야 할지 고민한 후 다시 구현\n",
    "    \n",
    "    - 단순한 웹 사이트를 만들 때는 지금의 방법도 효율적일 수 있음\n",
    "        - 하지만 모델의 구조가 복잡하고, 기능이 다양해지고, 페이지가 많은 웹 사이트를 만들 때는 효율적이지 않음\n",
    "        - 프로그램이 복잡해질수록 추가한 기능 사이의 상호 연관성이 점점 늘어나서 웹 브라우저에서 확인하기 힘들 수 있음\n",
    "        - 그리고 어떤 문제가 발생했을 때 문제가 너무 많은 요소들과 얽혀있어 쉽게 손을 댈 수가 없음\n",
    "\n",
    "- 위와 같은 사고를 예방하기 위해서 한 단계씩 개발할 때마다 테스트를 하면 됨\n",
    "    - 하지만 개발 프로그램이 복잡해질수록 매번 코드를 테스트하기는 매우 번거롭고 지치는 작업임\n",
    "    - 따라서 테스트 주도 개발을 통해 개발한 코드가 테스트를 만족하는지 자동으로 확인하면서 개발을 진행\n",
    "\n",
    "- 테스트 주도 개발의 과정\n",
    "    1. 테스트 코드 작성\n",
    "        - 만들고 싶은 기능을 점검할 코드 작성\n",
    "        - 아직 기능을 구현하지 않았으므로 테스트 결과는 당연히 실패\n",
    "        \n",
    "    2. 기능 구현\n",
    "        - 테스트 코드를 만족시킬 수 있게 기능을 구현\n",
    "        - 테스트 통과를 최우선으로 생각하고 작업\n",
    "        \n",
    "    3. 리팩토링\n",
    "        - 기능의 성능을 향상시키거나, 재사용성이 좋거나, 가독성이 좋은 코드로 개선\n",
    "        - 새로 만든 테스트 코드로 다시 기능을 점검"
   ]
  },
  {
   "cell_type": "markdown",
   "id": "993de40f-df37-4131-8513-2db269f13414",
   "metadata": {},
   "source": [
    "## 테스트 주도 개발 준비\n",
    "\n",
    "- 테스트 코드 사용 방법\n",
    "    - python manage.py test"
   ]
  },
  {
   "cell_type": "markdown",
   "id": "09f25b50-ba4b-4ddd-bfd7-063f1f6acefd",
   "metadata": {},
   "source": []
  }
 ],
 "metadata": {
  "kernelspec": {
   "display_name": "Python 3 (ipykernel)",
   "language": "python",
   "name": "python3"
  },
  "language_info": {
   "codemirror_mode": {
    "name": "ipython",
    "version": 3
   },
   "file_extension": ".py",
   "mimetype": "text/x-python",
   "name": "python",
   "nbconvert_exporter": "python",
   "pygments_lexer": "ipython3",
   "version": "3.10.9"
  }
 },
 "nbformat": 4,
 "nbformat_minor": 5
}
