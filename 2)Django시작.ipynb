{
 "cells": [
  {
   "cell_type": "markdown",
   "id": "7f829fe8-9891-4491-a5ef-730ce983e4d9",
   "metadata": {},
   "source": [
    "# Django 프로젝트 구조"
   ]
  },
  {
   "cell_type": "markdown",
   "id": "8a741f27-b91f-47c4-a041-612cd6da6393",
   "metadata": {},
   "source": [
    "## Django 프로젝트와 앱\n",
    "- 프로젝트(Project)\n",
    "    - 어떤 하나의 큰 서비스\n",
    "        - 우리가 만들고 있는 하나의 웹 사이트\n",
    "\n",
    "- 앱(App)\n",
    "    - 프로젝트 내 기능과 같은 요소들을 일정한 기준으로 나눠 놓은 단위\n",
    "    - 예) 페이스북과 같은 sns를 만든다고 하면 페이스북은 프로젝트가 되고 이 프로젝트는 몇가지 그룹으로 나뉠 수 있음\n",
    "        - 회원 관련 내용\n",
    "        - 가입/로그인/친구 맺기 피드 관련 내용\n",
    "        - 글쓰기/삭제하기/수정하기/공유하기\n",
    "    - 위 예시에서 회원앱/피드앱/메신저앱 으로 나눠놓는다면 어떤 기능 관련 코드를 찾을 때 어느 그룹으로 가야하는지 알 수 있고 여럿이 협업해서 개발한다면 역할분담이 쉬워짐\n",
    "    - 무엇을 기준으로 나누느냐에 따라 프로젝트 구조가 달라지고 개발 난이도에 영향을 줄 수 있음"
   ]
  },
  {
   "cell_type": "markdown",
   "id": "5f7c6908-54e8-4fb5-9a3a-bf7da54b586d",
   "metadata": {},
   "source": [
    "## Django 프로젝트 구성요소\n",
    "- manage.py\n",
    "    - Django와 관련된 명령어를 써야할 때 사용하는 파일\n",
    "    - 사용자가 입력하는 명령어를 처리하는 파일\n",
    "\n",
    "- myweb폴더\n",
    "    - startproject 명령어로 만들어진 폴더로, 총 5개의 .py 파일이 존재\n",
    "    - 주로 사용하게될 파일은 setting.py, urls.py\n",
    "    \n",
    "    - setting.py\n",
    "        - 프로젝트의 설정 파일\n",
    "        \n",
    "        - DEBUG\n",
    "            - 디버깅 모드에 대한 옵션\n",
    "            - 디버깅 모드에서는 웹 결과물에서 어떤 페이지나 기능에서 에러가 났을 때 그 에러에 대한 메세지가 웹 페이지에 그대로 노출됨\n",
    "                - 개발할 때는 에러메세지를 보면서 에러를 고치면 되지만, 실제로 배포를 할 때 사용자들이 보기에는 당황스러울 수 있음\n",
    "                - 또는 해커들이 프로젝트의 구조를 파악해 공격의 실마리를 찾을 가능성도 있음\n",
    "                - 따라서 배포할 때에는 디버깅 모드를 꺼야함\n",
    "        - ALLOWED_HOSTS\n",
    "            - 허용할 호스트 주소에 대한 내용\n",
    "            - 호스트 주소 : Django 프로젝트가 돌아가는 환경에 접속할 수 있는 주소\n",
    "                - 현재는 http://127.0.0.1:8000 에서 실행되어 127.0.0.1이 호스트 주소가 됨\n",
    "                - 로컬 주소는 기본값이기 때문에 따로 선언하지 않아도 되지만 만약에 선언한다면 [\"120.0.0.1\"]의 형식으로 입력하면 됨\n",
    "                - 실제로 프로젝트를 배포할 때에는 서버의 호스트 주소를 입력해야 외부에서 프로젝트로 접소갈 수 있음\n",
    "        - INSTALLED_APPS\n",
    "            - 설치된 앱들을 등록하는 옵션\n",
    "            - Django 프로젝트에서 사용할, 만든 앱들을 선언해주어야 등록이 되어 프로젝트에서 정상적으로 적용됨\n",
    "    \n",
    "    - urls.py\n",
    "        - 프로젝트의 url주소를 등록해놓는 파일\n",
    "        - path()를 통해 원하는 주소를 등록할 수 있음\n",
    "            - path(\"admin/\", admin.site.urls)\n",
    "            - 위의 경우에는 127.0.0.1:8000/admin/ 라는 주소가 선언된 것"
   ]
  },
  {
   "cell_type": "markdown",
   "id": "926cfcac-3988-43da-8c0a-84a91256586d",
   "metadata": {},
   "source": [
    "## MTV 패턴\n",
    "- Django 에서는 MTV패턴으로 개발을 진행\n",
    "    - 어떠한 패턴으로 개발을 진행한다는 것은 작업에 어느정도 규칙과 정해진 방식이 있고, 그 방식을 따라가며 중간중간 방식이 요구하는 내용을 채워 넣으면서 개발을 진행한다는 개념\n",
    "    - 개발 패턴에는 여러 종류가 있음\n",
    "        - 코드들이 각자 자기가 맡은 역할만을 온전히 수행하고, 서로 독립된 형태로 동작하는 구조로 프로젝트를 만들면 이후 프로젝트를 유지보수하게 되더라도 전체적인 흐름을 파악하기 쉬움\n",
    "        \n",
    "- MTV 패턴\n",
    "    - Model(모델)\n",
    "        - 앱의 데이터와 관련된 부분\n",
    "    - Template(템플릿)\n",
    "        - 사용자에게 보이는 부분\n",
    "    - View(뷰)\n",
    "        - 그 사이에서 Model의 데이터를 Template로 전달하고 Template에서 발생하는 이벤트를 처리하는 부분"
   ]
  },
  {
   "cell_type": "markdown",
   "id": "797c2f30-e4ba-409f-b6f6-802aded53353",
   "metadata": {},
   "source": [
    "<img src = \"./img/mtv.png\">"
   ]
  },
  {
   "cell_type": "markdown",
   "id": "22013ecb-1666-4a7c-99f6-4de95d2a340b",
   "metadata": {},
   "source": [
    "1. 유저가 특정 url로 요청을 보냄\n",
    "2. 해당 url과 매핑된 뷰를 호출\n",
    "3. 호출된 뷰는 요청에 따라 적절한 로직을 수행하며 그 과정에서 모델에게 CRUD를 지시\n",
    "4. 모델이 DB와 소통하며 CRUD를 수행\n",
    "5. 뷰는 지정된 템플릿과 렌더링하고\n",
    "6. 최종 결과를 응답으로 반환"
   ]
  },
  {
   "cell_type": "markdown",
   "id": "9d6b2837-32b8-4a68-acdc-534a5eda7a62",
   "metadata": {},
   "source": [
    "# Django Model\n",
    "- 모델은 데이터와 관련된 부분을 다루는 영역\n",
    "- 데이터베이스에 저장될 데이터의 모양을 정의하고 관련된 일부 기능을 설정해주는 영역\n",
    "    - 예) 사용자\n",
    "        - 아이디\n",
    "        - 이름\n",
    "        - 비밀번호\n",
    "        - 이메일\n",
    "        - 나이\n",
    "        - 성별\n",
    "- 위처럼 데이터의 특징들을 뽑아 이를 구성요소로 하는 것을 모델링 이라고 함\n",
    "- 개체를 모델링한 결과물은 모델\n",
    "    - 위 예시의 사용자는 모델이고 그 내부에 있는 아이디, 이름 등은 모델의 구성요소 혹은 속성\n",
    "- 모델은 데이터베이스의 테이블과 같은 구조임\n",
    "    - 모델 형태의 데이터들을 데이터베이스에 적용시키면 데이터베이스 테이블이 됨\n",
    "- 모델을 데이터베이스에 적용시키는 과정을 마이그레이션(Migration)이라고 함"
   ]
  },
  {
   "cell_type": "markdown",
   "id": "354b979f-91d5-47de-8603-0cc1745984c3",
   "metadata": {},
   "source": [
    "## Django 모델 생성\n",
    "- 파이썬에서는 모델을 하나의 클래스로 만들 수 있음\n",
    "- 클래스는 models.py에서 작성\n",
    "    - 속성을 정의하고 각 속성에 대한 세부 설정을 진행"
   ]
  },
  {
   "cell_type": "markdown",
   "id": "d2bb7d84-f90d-4dd1-9254-e80436372912",
   "metadata": {},
   "source": [
    "### Django 필드 종류\n",
    "- CharField : 문자열(길이제한 필요)\n",
    "- IntegerField : 정수\n",
    "- TextField : 문자열(길이제한 필요 없음)\n",
    "- DateField : 날짜\n",
    "- DateTimeField : 날짜 + 시간\n",
    "- FileField : 파일\n",
    "- ImageField : 이미지 파일\n",
    "- ForeignKey : 외래키(관계)\n",
    "- OneToOneField : 1대1관계\n",
    "- ManyToManyField : 다대다 관계"
   ]
  },
  {
   "cell_type": "markdown",
   "id": "ec4f1cef-7c16-4dfb-b82e-8d4e540629e8",
   "metadata": {},
   "source": [
    "### Django 모델 적용\n",
    "- 모델에 변화가 생겼을 때 마이그레이션을 통해 프로젝트에 모델의 변경 사항을 적용\n",
    "- 마이그레이션 과정\n",
    "    1. makemigrations : 모델을 변경한 내용을 기록하여 파일로 만들어주는 과정\n",
    "    2. migrate : makemigrations에서 생성된 파일을 실제로 실행시켜 데이터베이스에 변경사항을 적용시켜주는 과정"
   ]
  },
  {
   "cell_type": "markdown",
   "id": "08c9e019-032f-409a-b72d-03f920f802aa",
   "metadata": {},
   "source": [
    "# Django template\n",
    "- 사용자에게 보이는 웹페이지의 골격\n",
    "    - HTML로 작성된 부분\n",
    "    \n",
    "- 프론트 개발 영역에 포함되는 부분"
   ]
  },
  {
   "cell_type": "markdown",
   "id": "cf7f145a-5597-420e-a5fd-05f28f1d95e7",
   "metadata": {},
   "source": [
    "## Django Template의 특징\n",
    "- 일반적인 HTML작성과 거의 동일하지만 한 가지 차이점은 템플릿 태그(Template Tag)\n",
    "    - HTML이 파이썬 코드로부터 데이터를 바로 넘겨받아서 손쉽게 처리할 수 있는 도구\n",
    "\n",
    "- HTML은 마크업 언어이기 때문에 정적인 웹페이지를 보여주기만 하는데 무언가 데이터를 넘겨받아서 웹 페이지에 보여주기 위해서는 JavaScript 와 같은 도구가 필요\n",
    "    - Django에서는 템플릿 태그가 있기 때문에 파이썬에서 데이터를 받아서 표현할 수 있음\n",
    "    - for나 if같은 파이썬의 기본적인 구문도 사용할 수 있음"
   ]
  },
  {
   "cell_type": "markdown",
   "id": "ea51ef9a-4ab3-4912-85b5-a64d2cdf597c",
   "metadata": {},
   "source": [
    "# Django view, URL"
   ]
  },
  {
   "cell_type": "markdown",
   "id": "9eedb508-5d5c-42a2-b279-62a494e5c4b2",
   "metadata": {},
   "source": [
    "## View\n",
    "- 템플릿과 모델 사이를 이어주는 다리와 같은 역할\n",
    "- 모델을 통해서 데이터에 접근하여 템플릿으로부터 요청 받은 데이터를 뽑아와 템플릿에게 답변으로 보내줌\n",
    "    - 프론트가 백에게 데이터를 요청할 때 백엔드에서 데이터를 뽑아서 프론트엔드에게 제공해주는 과정을 뷰가 처리"
   ]
  },
  {
   "cell_type": "markdown",
   "id": "b3524103-b7c1-4263-ba66-9477beb790fc",
   "metadata": {},
   "source": [
    "## URL(Uniform Resource Locator)\n",
    "- 서버로 해당 주소에 할당된 리소스를 요청하는 역할\n",
    "    - 리소스 : 웹 브라우저로 보는 HTML과 내부를 채우는 데이터 등을 포함하는 개념"
   ]
  }
 ],
 "metadata": {
  "kernelspec": {
   "display_name": "Python 3 (ipykernel)",
   "language": "python",
   "name": "python3"
  },
  "language_info": {
   "codemirror_mode": {
    "name": "ipython",
    "version": 3
   },
   "file_extension": ".py",
   "mimetype": "text/x-python",
   "name": "python",
   "nbconvert_exporter": "python",
   "pygments_lexer": "ipython3",
   "version": "3.10.9"
  }
 },
 "nbformat": 4,
 "nbformat_minor": 5
}
