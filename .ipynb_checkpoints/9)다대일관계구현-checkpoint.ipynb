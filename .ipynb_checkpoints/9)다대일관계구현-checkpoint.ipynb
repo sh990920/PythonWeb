{
 "cells": [
  {
   "cell_type": "markdown",
   "id": "6522b71d-054c-4011-9161-0e9fd934f139",
   "metadata": {},
   "source": [
    "# 작성자 추가\n",
    "\n",
    "- 다대일 관계\n",
    "    - 여러 개의 모델이 하나의 모델에 연결되는 관계\n",
    "        - 블로그의 사용자는 각각 여러 개의 포스트를 작성할 수 있음\n",
    "        - 각 포스트는 작성자 정보를 담을 수 있는 필드에 한 명의 사용자 정보만 담을 수 있음\n",
    "            - 즉, 포스트와 작성자의 관계는 다대일 관계\n",
    "        - 카테고리 정보를 추가하는 경우도 마찬가지\n",
    "        - 하나의 카테고리에는 여러 개의 포스트가 포함될 수 있음\n",
    "        - 반면 하나의 포스트는 하나의 카테고리만 지정 가능\n",
    "            - 이런 경우 다대일 관계가 성립\n",
    "            \n",
    "- author 필드에 담을 내용\n",
    "    - 사용자명을 문자열로 저장\n",
    "    - 사용자가 사용자명을 바꾼다면 이전에 작성한 글의 작성자명도 함께 바뀌어야함\n",
    "    - 탈퇴하거나 글을 삭제하면 작성자명을 \"unknown\"으로 표시하는 기능 필요"
   ]
  },
  {
   "cell_type": "markdown",
   "id": "a64526a1-37cf-484e-a519-8b9bbf2b2374",
   "metadata": {},
   "source": [
    "## ForeignKey로 author 필드 구현\n",
    "\n",
    "- User 모델 사용\n",
    "    - User는 장고에서 기본적으로 제공하는 모델\n",
    "    - on_delete-models.CASCADE : 이 포스트의 작성자가 데이터베이스에서 삭제되었을 때 이 포스트도 함께 삭제한다"
   ]
  },
  {
   "cell_type": "markdown",
   "id": "a466be4d-98c9-44fd-9342-ae34e3cf83c1",
   "metadata": {},
   "source": [
    "### 다른 사용자가 게시글을 작성하는 경우 테스트\n",
    "\n",
    "- 관리자페이지에서 새로운 사용자를 만들기\n",
    "    - Users 옆의 add버튼 클릭"
   ]
  },
  {
   "cell_type": "markdown",
   "id": "28661029-cb4f-49b2-9222-bd477c5a67d7",
   "metadata": {},
   "source": [
    "### 작성자 정보가 삭제될 때 포스트 정보가 삭제되는지 확인\n",
    "\n",
    "- models.py의 author 필드에서 on_delete=models.CASCADE로 지정했기 때문에 trump 사용자가 삭제될 때 trump가 작성한 포스트까지 다 삭제되어야 함"
   ]
  },
  {
   "cell_type": "markdown",
   "id": "0496637b-d9df-45d9-8561-f71b0745eb2a",
   "metadata": {},
   "source": [
    "### 연결된 사용자가 삭제되면 빈 칸으로 두기\n",
    "\n",
    "- 사용자가 삭제되어도 그 사용자가 작성한 글은 남겨두고 author 필드 값만 null로 바뀌도록 설정\n",
    "    - on_delete=models.SET_NULL : 이 포스트의 작성자가 데이터베이스에서 삭제되었을 때 작성자 명을 빈 칸으로 둔다"
   ]
  },
  {
   "cell_type": "markdown",
   "id": "d9e5f9d4-3e61-4cbb-b555-1b7d366d5147",
   "metadata": {},
   "source": [
    "### 포스트 작성자가 삭제되었을 때 테스트\n",
    "\n",
    "- 새로운 사용자를 생성한 후 해당 사용자의 이름으로 새로운 포스트를 추가하고 삭제"
   ]
  },
  {
   "cell_type": "markdown",
   "id": "0bdec7c2-f000-4b76-b0c1-fed0699b3367",
   "metadata": {},
   "source": [
    "## 포스트 목록 페이지와 포스트 상세 페이지에 author 반영하기\n",
    "\n",
    "- 작성자 정보가 포스트 목록과 상세 페이지에 나타나도록 변경"
   ]
  },
  {
   "cell_type": "markdown",
   "id": "7ff54436-0ce6-4361-b965-6b4fabf147f5",
   "metadata": {},
   "source": [
    "### 테스트 코드 작성\n",
    "\n",
    "- blog/tests.py에 from django.contrib.auth.models improt User 로 User 모델을 임포트\n",
    "- setUp() 함수에 User 데이터를 2개 생성\n",
    "\n",
    "- test_post_list() 함수에서 Post 모델의 post_001과 post_002데이터를 생성할 때 각각 author=self.user_trump와 author=self.user_biden을 인자로 추가"
   ]
  },
  {
   "cell_type": "markdown",
   "id": "b54729af-134e-47e7-9ddf-0ba2d3087d73",
   "metadata": {},
   "source": [
    "- 테스트 실패 이유는 TRUMP 라는 문구가 메인 영역에서 보이지 않았기 때문\n",
    "    - post_list.html 파일을 수정해 작성자명을 입력"
   ]
  },
  {
   "cell_type": "markdown",
   "id": "3555bc6b-ef66-4c1e-9bd5-4950a927ea3e",
   "metadata": {},
   "source": [
    "### 포스트 상세 페이지에 작성자 추가\n",
    "\n",
    "- test_post_detail() 함수도 test_post_list() 함수와 마찬가지로 post_001을 생성할 때 작성자명을 포함하도록 수정\n",
    "- 포스트의 작성자가 화면에 출력되는지 확인하는 코드 추가"
   ]
  },
  {
   "cell_type": "markdown",
   "id": "165a4d27-87a0-4398-83fe-e3d3e029dfec",
   "metadata": {},
   "source": [
    "# 카테고리 기능 구현\n",
    "\n",
    "- 블로그 포스트 내용에 따라 카테고리를 구분해서 방문자가 원하는 분야의 글만 읽을 수 있도록 카테고리 기능 추가\n",
    "- 현재의 템플릿에 카테고리 기능의 모양은 갖춰져 있음\n",
    "    - 실제로 개발중인 사이트에 맞게 수정하면 됨\n",
    "    \n",
    "- 카테고리 페이지 구성\n",
    "    - 페이지 오른쪽에 있는 Categories 카드에 블로그의 ㄹ카테고리가 모두 표시\n",
    "    - 포스트 목록 페이지와 포스트 상세 페이지에 모두 나타나야함\n",
    "    - 이 중 하나를 클릭하면 해당 카테고리 페이지로 이동\n",
    "    - 카테고리 페이지에는 해당 카테고리에 들어 있는 포스트가 모두 나열\n",
    "    - 각 포스트는 하나의 카테고리만 지정 가능\n",
    "        - 카테고리는 여러 개의 포스트가 포함될 수 있으므로 포슽와 카테고리는 포슽와 작성자 처럼 다대일 관계\n",
    "        - ForeignKey로 구현 가능\n",
    "    - Category 모델은 직접 개발"
   ]
  },
  {
   "cell_type": "markdown",
   "id": "f6d2c845-d10d-417d-a7f5-48a88b999d27",
   "metadata": {},
   "source": [
    "## Category 모델 개발\n",
    "\n",
    "- blog/models.py 에 Category 모델 추가"
   ]
  },
  {
   "cell_type": "markdown",
   "id": "b5902e94-cb50-455a-8dad-2962311f209a",
   "metadata": {},
   "source": [
    "- name\n",
    "    - 각 카테고리의 이름을 담는 필드 \n",
    "    - unique=True : 동일한 name을 갖는 카테고리를 또 만들 수 없음\n",
    "        - Post 모델의 title에서는 unique=True 를 설정하지 않았기 때문에 같은 제목을 갖는 블로그 포스트를 여러 개 만들 수 있음\n",
    "- slug\n",
    "    - SlugField : 사람이 읽을 수 있는 텍스트로 고유 URL을 만들고 싶을 때 사용\n",
    "    - Post모델처럼 PK를 활용해 URL을 만들 수도 있지만, 카테고리는 포스트만큼 개수가 많지 않을것이기 때문에 사람이 읽고 그 뜻을 알 수 있게 고유 URL을 사용\n",
    "    - 길이는 최대 200으로 제한하고, unique=True를 사용해 서로 다른 카테고리가 동일한 slug를 가질 수 없도록 설정\n",
    "    - 기본적으로 SLugField는 한글을 지원하지 않지만 allow_unicode=True 로 설정해 한글로도 만들 수 있게 함"
   ]
  },
  {
   "cell_type": "markdown",
   "id": "1aded4d0-69f7-4b3f-8eee-fdb115ea55ed",
   "metadata": {},
   "source": [
    "### post 모델에 category 필드 추가\n",
    "\n",
    "- 카테고리가 미분류인 포스트도 있을 수 있으므로 null=True\n",
    "- ForeignKey로 연결되어 있던 카테고리가 삭제된 경우 연결된 포스트까지 삭제되지 않고 해당 포스트의 category 필드만 null이 되도록 on_delete=models.SET_NULL 로 설정"
   ]
  },
  {
   "cell_type": "markdown",
   "id": "eb807a2c-3aa7-47e1-bc21-f062c1806ef1",
   "metadata": {},
   "source": [
    "### admin.py에 Category 모델 등록\n",
    "\n",
    "- blog/admin.py에서 Category 모델을 임포트\n",
    "- CategoryAdmin 클래스 추가 후 name 필드에 값이 입력됐을 때 자동으로 slug가 만들어지도록 설정"
   ]
  },
  {
   "cell_type": "markdown",
   "id": "f0985fc1-9f5f-444f-8196-1e226f1c332c",
   "metadata": {},
   "source": [
    "### Meta로 모델의 복수형 설정 \n",
    "\n",
    "- 장고 Category의 복수형을 Categorys라고 썼음\n",
    "- models.py에서 Category 모델의 메타 설정에서 verbose_name_plural을 추가해 복수형을 직접 설정"
   ]
  },
  {
   "cell_type": "markdown",
   "id": "13bd628e-a52f-48f7-891c-b1b95367570a",
   "metadata": {},
   "source": [
    "## 카테고리를 빈 칸으로 남겨두기\n",
    "\n",
    "- Categoies 데이터를 추가\n",
    "- Name에 이름을 입력하면 자동으로 특수기호나 빈 칸 등 URL로 사용하기 적합하지 않은 문자를 적절하게 변환한 다음 slug에 채워줌\n",
    "    - CategoryAdmin 클래스의 기능"
   ]
  },
  {
   "cell_type": "markdown",
   "id": "0aa94b19-1c56-46ab-92a1-d7f432651ec2",
   "metadata": {},
   "source": [
    "## 포스트 목록 페이지 수정\n",
    "\n",
    "- 포스트 목록 페이지 오른쪽에 카테고리를 나열하고 해당 카테고리에 속한 포스트의 갯수를 표시\n",
    "- 포스트 요약 부분에도 카테고리를 뱃지로 표시"
   ]
  },
  {
   "cell_type": "markdown",
   "id": "1504e71f-1f2e-4a4d-a59f-f47ee2b6bbb3",
   "metadata": {},
   "source": [
    "### 테스트 코드 작성\n",
    "\n",
    "- setUp() 함수에서 Category 데이터 2개를 생성\n",
    "    - setUp() 함수는 TestCase의 초기 데이터베이스 상태를 정의하기 때문에 클래스 안의 모든 테스트 함수에 공통적으로 적용됨\n",
    "        - set_post_list, test_post_detail 을 시작할 때 이미 테스트 데이터베이스에 2개의 카테고리가 생성된 상태로 만들 수 있음"
   ]
  },
  {
   "cell_type": "markdown",
   "id": "62cd9e17-4abb-4d9a-8d19-46c4363f8075",
   "metadata": {},
   "source": [
    "### category_card_test() 함수 작성\n",
    "\n",
    "- 포스트 목록 페이지, 포스트 상세 페이지, 카테고리 페이지에서 동일하게 테스트할 내용이기 때문에 함수로 한 번 작성하고 이후 재사용\n",
    "- 테스트할 내용\n",
    "    - id가 category-card 인 div 요소를 찾음\n",
    "    - 해당 요소 안에 \"Categories\"라는 문구가 있는지 확인\n",
    "    - 모든 카테고리가 제대로 출력되어 있는지 확인\n",
    "    - 카테고리가 없는 포스트의 개수가 \"미분류\" 카테고리 항목 옆에 표시되는지 확인"
   ]
  },
  {
   "cell_type": "markdown",
   "id": "2322c54c-6f8c-4984-87d8-6c8cdb6ead16",
   "metadata": {},
   "source": [
    "### test_post_list() 함수 수정\n",
    "\n",
    "- 그동안 작성했던 내용 모두 삭제하고 다시 작성\n",
    "- 이미 setUp() 함수에서 포스트를 3개 만든 상태로 시작하므로 포스트가 있는 경우와 없는 경우를 나누어 테스트"
   ]
  },
  {
   "cell_type": "markdown",
   "id": "905b4d6f-4e19-40c5-a88d-8906c06f15a0",
   "metadata": {},
   "source": [
    "### div 요소에 id 부여\n",
    "\n",
    "- 테스트하면 div요소에 categories-card id를 부여하지 않았기 때문에 테스트에 실패함\n",
    "    - base.html 에서 카테고리에 해당하는 div 요소에 id=\"categories-card\"를 추가\n",
    "- 카테고리카드는 좌우를 나누지 않을 계획이기 때문에 div class=\"row\" 내부의 컬럼을 나누는 코드는 삭제"
   ]
  },
  {
   "cell_type": "markdown",
   "id": "9b4ca42c-7e63-461a-ac01-6d9cb5e37ae9",
   "metadata": {},
   "source": [
    "### get_context_data() 메서드로 category 관련 인자 넘기기\n",
    "\n",
    "- views.py에서 Category 데이터를 가져와 post_list.html 에 반영해야 테스트 통과 가능\n",
    "- ListView나 DetailView 클래스는 기본적으로 get_context_data 메서드를 내장하고 있음\n",
    "    - ListView에서 model=Post 라고 선언하면 get_context_data 메서드가 post_list = Post.objects.all() 명령어를 수행하는 것"
   ]
  },
  {
   "cell_type": "markdown",
   "id": "73c8c7ab-5a6a-4a73-8033-8aad1d351321",
   "metadata": {},
   "source": [
    "### 템플릿 수정하기\n",
    "\n",
    "- 카테고리 카드에 해당하는 코드는 base.html에 있으므로 base.html 수정\n",
    "- for 문으로 categories 에서 불러온 요소를 li 태그 목록 형태로 노출\n",
    "- a 요소의 href 값으로 카테고리의 고유 URL을 링크로 만들기\n",
    "- 미분류 포스트의 갯수도 나타내기"
   ]
  },
  {
   "cell_type": "markdown",
   "id": "f3da4a00-3d73-4c87-8742-6fbef48116d5",
   "metadata": {},
   "source": [
    "- 카테고리가 지정되지 않은 포스트는 \"미분류\"라고 표기\n",
    "    - if문을 사용해 카테고리가 있는 경우는 그 카테고리를 출력하고, 없는 경우에는 \"미분류\"를 출력"
   ]
  },
  {
   "cell_type": "markdown",
   "id": "e3a71b16-66af-4cc8-bf87-d502b867450c",
   "metadata": {},
   "source": [
    "## 포스트 상세 페이지 수정\n",
    "\n",
    "- 포스트 상세도 포스트 목록 페이지와 마찬가지로 오른쪽 사이트 바에 카테고리 카드가 있고 그 안에 모든 카테고리가 목록으로 나열됨\n",
    "- 포스트의 젬고 아래에 뱃지 모양으로 카테고리 이름이 표시되고, 카테고리가 없는 포스트라면 \"미분류\"가 출력"
   ]
  },
  {
   "cell_type": "markdown",
   "id": "6acfe467-7380-46bb-bbc3-8379300c8dfd",
   "metadata": {},
   "source": [
    "### 테스트 코드 수정\n",
    "\n",
    "- setUp() 함수에서 포스트를 만들었기 때문에 더 이상 test_post_detail에는 포스트를 생성하는 부분이 필요 없으므로 삭제\n",
    "    - post_001을 모두 self,post_001로 수정\n",
    "- self.category_card_test(soup)를 추가\n",
    "- 포스트 영역에 카테고리가 있는지 확인하는 코드를 추가"
   ]
  },
  {
   "cell_type": "markdown",
   "id": "c2bc89ad-574b-40be-8c1e-9081db7621f7",
   "metadata": {},
   "source": [
    "## 카테고리 페이지 만들기\n",
    "\n",
    "- 한 카테고리를 클릭하면 해당 카테고리와 관계있는 포스트만 보여주는 페이지\n",
    "- 페이지 타이틀 옆에는 카테고리 이름을 뱃지로 표현해 어떤 카테고리 페이지인지 알려줌"
   ]
  },
  {
   "cell_type": "markdown",
   "id": "fd24c412-36d3-4b5b-aab1-f8466518339d",
   "metadata": {},
   "source": [
    "### 테스트 코드 작성\n",
    "\n",
    "- self.category_programming 페이지를 사용\n",
    "    - get_absolute_url() 함수에 따라 접속했을 때 페이지가 잘 열리는지 검사\n",
    "- 성공적으로 페이지를 읽어왔다면 beautifulsoup4로 파싱\n",
    "    - navbar_test와 category_card_test 수행\n",
    "- 페이지 상단에 카테고리 뱃지가 잘 나타나는지 확인\n",
    "- 메인 영역에 programming(테스트에 사용하는 카테고리가 programming이기 때문에)이 있는지 확인\n",
    "    - 해당 카테고리의 포스트만 노출되는지 확인"
   ]
  },
  {
   "cell_type": "markdown",
   "id": "e258c7df-c3e7-4290-a554-7a8e98ffb6b3",
   "metadata": {},
   "source": [
    "### Category 모델 수정\n",
    "\n",
    "- Category 모델에 get_absolute_rul() 함수를 정의\n",
    "    - slug 필드를 이용해 고유 URL을 만들기"
   ]
  },
  {
   "cell_type": "markdown",
   "id": "0aa0e0c1-8ceb-4672-9639-eb93ab55e1be",
   "metadata": {},
   "source": [
    "### 뷰 수정\n",
    "\n",
    "- category_page() 함수를 FBV로 정의\n",
    "- category_page() 함수의 매개변수로는 request와 slug를 설정\n",
    "    - category_page() 함수가 입력받은 slug와 동일한 slug를 갖는 카테고리를 불러와서 category변수에 저장\n",
    "- 템플릿은 blog/post_list.html을 사용\n",
    "- PostList 클래스에서 context로 정의했던 부분을 딕셔너리로 직접 정의해야함\n",
    "    - post_list : 포스트 모델에서 slug가 일치하는 데이터만 필터링해서 가져오기\n",
    "    - categories : 모든 카테고리 데이터. 페이지의 오른쪽의 카테고리 카드를 채우기 위함\n",
    "    - no_category_post_count : 카테고리 미분류 포스트의 개수\n",
    "    - category : 페이지 타이틀 옆에 표현할 카테고리 이름"
   ]
  },
  {
   "cell_type": "markdown",
   "id": "76dafa39-f238-4641-951e-8f1fac3e3562",
   "metadata": {},
   "source": [
    "### URL 정의\n",
    "\n",
    "- 사용자가 \"category/문자열\" 형태의 URL을 입력하면 그 문자열을 views.py에 정의한 category_page() 함수의 slug 매개변수의 인자로 넘겨주도록 정의\n",
    "    - 예) 사용자가 URL을 \"127.0.0.1:8000/blog/category/programming/\" 이라고 입력한다면 programming만 views.py의 category_page() 함수로 보내기"
   ]
  },
  {
   "cell_type": "markdown",
   "id": "03ca8c65-88f4-4d7d-9786-7ad228e5665b",
   "metadata": {},
   "source": [
    "### 미분류 카테고리 처리\n",
    "\n",
    "- 카테고리 중 미분류를 클릭하면 오류 발생\n",
    "    - 카테고리가 없는 포스트 목록이 나타나도록 수정\n",
    "    - views.py에서 slug인자로 \"no_category\"가 넘어오면 카테고리가 없는 포스트만 보여주고. category 변수에도 \"미분류\"라는 문자열만 저장"
   ]
  }
 ],
 "metadata": {
  "kernelspec": {
   "display_name": "Python 3 (ipykernel)",
   "language": "python",
   "name": "python3"
  },
  "language_info": {
   "codemirror_mode": {
    "name": "ipython",
    "version": 3
   },
   "file_extension": ".py",
   "mimetype": "text/x-python",
   "name": "python",
   "nbconvert_exporter": "python",
   "pygments_lexer": "ipython3",
   "version": "3.10.9"
  }
 },
 "nbformat": 4,
 "nbformat_minor": 5
}
