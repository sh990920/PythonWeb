{
 "cells": [
  {
   "cell_type": "markdown",
   "id": "60e8abab-f9f6-45de-b916-9ddd45718170",
   "metadata": {},
   "source": [
    "# URL 설정\n",
    "\n",
    "- urls.py\n",
    "    - 사용자가 장고로 개발한 웹사이트를 방문했을 때 어떤 페이지로 들어가야 하는지 알려줌\n",
    "    - 서버IP/admin/ 으로 접속하면 admin.site.urls에 정의된 내용을 찾아 처리하라고 정해져 있기 때문에 127.0.0.1:8000/admin/ 에 접속하면 관리자페이지로 접근할 수 있음"
   ]
  },
  {
   "cell_type": "markdown",
   "id": "68079e9f-2a6f-49c4-9d54-a2e065bcd96c",
   "metadata": {},
   "source": [
    "## 필요한 페이지\n",
    "\n",
    "- 대문 페이지\n",
    "    - 도메인 또는 서버 IP 주소 뒤에 아무것도 쓰지 않았을 경우, 방문자를 맞이하는 페이지\n",
    "    - 별도의 하위 페이지는 필요하지 않음\n",
    "\n",
    "- 블로그 페이지\n",
    "    - 포스트 목록 페이지\n",
    "        - URL : 도메인/blog/\n",
    "        - 블로그의 여러 포스트를 목록 형태로 보여주는 포스트 목록 페이지\n",
    "        - 방문자가 원하는 포스트를 클릭하면 그 포스트의 전문과 댓글을 보여주는 포스트 상세 페이지도 필요\n",
    "        \n",
    "    - 포스트 상세 페이지\n",
    "        - URL : 도메인/blog/포스트의pk/\n",
    "\n",
    "- 자기소개 페이지\n",
    "    - URL : 도메인/about_me/"
   ]
  },
  {
   "cell_type": "markdown",
   "id": "009ded58-d76f-41a1-a583-967b76cbfe53",
   "metadata": {},
   "source": [
    "# 포스트 목록 페이지"
   ]
  },
  {
   "cell_type": "markdown",
   "id": "c21f81db-f0f1-423e-91f5-c00d37ff74c1",
   "metadata": {},
   "source": [
    "- 방문자가 도메인/blog/ 로 접속할 때는 blog 앱 폴더의 urls.py를 참고하도록 설정\n",
    "    - django_prj/urls.py\n",
    "    \n",
    "- 아직 blog 앱폴더에는 urls.py가 없으므로 새 urls.py를 생성\n",
    "\n",
    "- blog앱 폴더의 urls.py에도 urlpatterns 리스트에 URL과 그 URL이 들어올 때 어떻게 처리할 지 명시해줘야 함"
   ]
  },
  {
   "cell_type": "markdown",
   "id": "11ec5d86-2635-4814-af5e-552984bc885d",
   "metadata": {},
   "source": [
    "# views 작성\n",
    "\n",
    "- urls.py에 들어갈 함수나 클래스 등은 views.py 에서 정의\n",
    "- views.py를 작성하는 방법은 2가지가 있음\n",
    "    - FBV(Function based view)\n",
    "        - 함수에 기반을 둔 방법\n",
    "        - 함수를 직접 만들어서 원하는 기능을 구현\n",
    "        \n",
    "    - CBV(Class based view)\n",
    "        - 장고가 제공하는 클래스를 활용해 구현하는 방법\n",
    "        \n",
    "- FBV와 CBV중 어느 것이 더 낫다고 단정지을 수는 없고 필요에 따라, 취향에 따라 선택하면 됨"
   ]
  },
  {
   "cell_type": "markdown",
   "id": "36ebc0d1-ea41-4b2c-906f-197c2a9a471f",
   "metadata": {},
   "source": [
    "## FBV"
   ]
  },
  {
   "cell_type": "markdown",
   "id": "288c311e-1e93-4c55-9222-68dc0d407107",
   "metadata": {},
   "source": [
    "### blog/views.py에 index() 함수 정의\n",
    "\n",
    "- index()\n",
    "    - 장고가 기본으로 제공하는 render() 함수를 이용해 템플릿 폴더에서 blog폴더의 index.html 파일을 찾아 방문자에게 보내줌"
   ]
  },
  {
   "cell_type": "markdown",
   "id": "0c8361cd-3a82-4a8e-8ecb-c5055aecf169",
   "metadata": {},
   "source": [
    "### blog/urls.py에 내용 추가\n",
    "\n",
    "- 입력된 URL이 도메인/blog/라면 views.py에 정의되어 있는 index() 함수를 실행"
   ]
  },
  {
   "cell_type": "markdown",
   "id": "39d18c1f-d632-4e92-b1b6-5cc7d4bda1e4",
   "metadata": {},
   "source": [
    "## 템플릿 파일 작성\n",
    "\n",
    "- 경로 : blog/templates/blog/index.html"
   ]
  },
  {
   "cell_type": "markdown",
   "id": "4dcbf019-7e0b-479b-bcd9-b88a5f9ab85c",
   "metadata": {},
   "source": [
    "### 블로그 페이지에 포스트 목록 나열\n",
    "\n",
    "- views.py를 개선해 Post 모델을 import 한 후 index()함수에서 모든 Post 데이터를 가져와 posts에 저장\n",
    "- render() 함수 안에 posts를 딕셔너리 형태로 추가\n",
    "\n",
    "\n",
    "- views.py의 index()함수에서 데이터베이스에서 받아온 Post데이터들을 index.html에서 for문을 이용해 보여줌\n",
    "    - for 문에 해당하는 부분은 {% %}로 감싸고\n",
    "    - 단순 변수를 의미하는 곳은 {{ }} 로 감싸서 표현\n",
    "    \n",
    "    \n",
    "- Post모델에서 \\_\\_str__() 함수로 정의한 대로 포스트 제목과 번호가 나타남"
   ]
  },
  {
   "cell_type": "markdown",
   "id": "da17f152-ea09-4105-bb0a-3aa50dfed033",
   "metadata": {},
   "source": [
    "### Post모델의 필드값 보여주기\n",
    "\n",
    "- for문을 통해 인스턴스화된 Post모델의 필드는 닷(.)기호로 접근할 수 있음"
   ]
  },
  {
   "cell_type": "markdown",
   "id": "789e1c74-f156-4e18-9a0b-d16307249888",
   "metadata": {},
   "source": [
    "### 최신 포스트부터 보여주기\n",
    "\n",
    "- 일반적으로 블로그에서는 최신글부터 맨 위에 배치함\n",
    "- 데이터를 정렬하려면 order_by를 사용\n",
    "    - pk의 역순으로 정렬"
   ]
  },
  {
   "cell_type": "markdown",
   "id": "8188da98-7d56-47bf-b9f7-4f69d8f22e68",
   "metadata": {},
   "source": [
    "## FBV로 포스트 상세 페이지 생성"
   ]
  },
  {
   "cell_type": "markdown",
   "id": "1073e28e-db0d-4f78-857d-15fe96751895",
   "metadata": {},
   "source": [
    "### single_post_page() 함수 정의\n",
    "\n",
    "- 모델.objects.get() : 괄호 안의 조건을 만족하는 모델 데이터를 가져오라는 뜻\n",
    "    - Post 모델의 pk 필드 값이 single_post_page() 함수의 매개변수로 받은 pk와 같은 데이터를 가져오도록\n",
    "    \n",
    "- 모델로부터 받아온 데이터 하나를 blog/single_post_page.html에 담아서 렌더링"
   ]
  },
  {
   "cell_type": "markdown",
   "id": "2fcdef79-df66-4c70-9ed3-74055c1bae62",
   "metadata": {},
   "source": [
    "### URL 정의\n",
    "\n",
    "- 웹사이트 방문자가 도메인/blog/ 로 접속하면 blog/urls.py에서 처리한다고 django_prj/urls.py에서 정의되어 있음\n",
    "\n",
    "- blog/urls.py 에서는 도메인/blog/ 뒤에 아무것도 없는 주소라면 index()함수에서 처리하도록 설정되어 있음\n",
    "\n",
    "- \\<int:pk> : 정수 형태의 값을 pk라는 변수로 담아 single_post_page() 함수로 넘김"
   ]
  },
  {
   "cell_type": "markdown",
   "id": "f1f0e259-2222-4c48-a938-1c8c25082c86",
   "metadata": {},
   "source": [
    "### 템플릿 파일 작성\n",
    "\n",
    "- 타이틀은 해당 포스트의 title 필드 뒤에 \"- Blog\"를 붙여 나타내도록\n",
    "    - \"제목 - Blog\"\n",
    "    \n",
    "- body 태그 안에는 내비게이션 바에 a 태그로 포스트 목록 페이지로 갈 수 있는 링크 생성\n",
    "- 포스트의 title, created_at, content 필드가 각각 h1, h4, p태그로 표현\n",
    "- h3태그로 \"여기 댓글이 들어올 수 있겠죠?\" 라는 문구를 남겨 포스트 상세 페이지의 댓글 기능이 구현될 예정임을 표시"
   ]
  },
  {
   "cell_type": "markdown",
   "id": "eb30baaa-c9b1-47d8-93d2-c35a5c291296",
   "metadata": {},
   "source": [
    "## 포스트 제목에 링크 생성\n",
    "\n",
    "- 포스트 목록 페이지에서 포스트의 제목을 클릭하면 해당 포스트의 상세 페이지로 갈 수 있는 링크 생성"
   ]
  },
  {
   "cell_type": "markdown",
   "id": "d760a4ae-6ad4-4d63-816b-184889c1e30a",
   "metadata": {},
   "source": [
    "### get_absolute_url() 함수 정의\n",
    "\n",
    "- 포스트 상세 페이지를 만들 때 URL을 도메인/blog/데이터의pk/ 형태로 구성되게 했기 때문에 get_absolute_url() 함수에서도 동일한 규칙의 URL을 생성하는 함수를 정의"
   ]
  },
  {
   "cell_type": "markdown",
   "id": "0b891ae0-0ae0-4e6c-bcb2-fea264b46ff9",
   "metadata": {},
   "source": [
    "### index.html 수정\n",
    "\n",
    "- p.title을 클릭하면 p.get_absolute_url로 연결되도록 수정"
   ]
  },
  {
   "cell_type": "markdown",
   "id": "8248868e-a6ef-4636-9d4e-5b0ac0306282",
   "metadata": {},
   "source": [
    "## 대문 페이지와 자기소개 페이지 작성\n",
    "\n",
    "- single_pages 앱의 대문 페이지와 자기소개 페이지 작성"
   ]
  },
  {
   "cell_type": "markdown",
   "id": "4c4270d4-f553-434c-ad09-a71bdb59f2f7",
   "metadata": {},
   "source": [
    "### views.py에 함수 정의\n",
    "\n",
    "- single_pages의 함수들은 모델과 연결할 필요없이 html만 연결\n",
    "    - landing() 함수는 landing.html을 보여주고\n",
    "    - about_me() 함수는 about_me.html을 보여주도록 설정"
   ]
  },
  {
   "cell_type": "markdown",
   "id": "b41ae452-cd55-4805-a24b-707d40fd48ba",
   "metadata": {},
   "source": [
    "### single_pages 앱을 위한 URL 지정\n",
    "\n",
    "- 대문 페이지\n",
    "    - 127.0.0.1:8000\n",
    "    - landing.html\n",
    "    \n",
    "- 자기소개 페이지\n",
    "    - 127.0.0.1:8000/about_me/\n",
    "    - about_me.html"
   ]
  },
  {
   "cell_type": "markdown",
   "id": "122a0087-daae-42b4-bf54-81892c8217df",
   "metadata": {},
   "source": [
    "### 템플릿 파일 작성\n",
    "\n",
    "- single_pages/templates/single_pages 폴더를 만든 후 landing.html과 about_me.html을 새로 작성"
   ]
  },
  {
   "cell_type": "markdown",
   "id": "d7f4a179-c27d-478a-8a97-302f2263113f",
   "metadata": {},
   "source": [
    "# CBV로 페이지 작성"
   ]
  },
  {
   "cell_type": "markdown",
   "id": "b57b6619-f3f7-4f7c-aa87-057375c0fa50",
   "metadata": {},
   "source": [
    "## CBV로 포스트 목록 페이지 작성"
   ]
  },
  {
   "cell_type": "markdown",
   "id": "be6ed772-9dab-45e8-8768-0174b16fc0fb",
   "metadata": {},
   "source": [
    "### ListView로 포스트 목록 작성\n",
    "- FBV의 index() 함수를 대체하는 PostList 클래스를 ListView 클래스를 상속해 작성"
   ]
  },
  {
   "cell_type": "markdown",
   "id": "705423ef-4096-4bd5-b91a-422db77007e3",
   "metadata": {},
   "source": [
    "### urls.py 수정\n",
    "- 도메인/blog/로 접속할 때 PostList클래스로 처리되도록 수정"
   ]
  },
  {
   "cell_type": "markdown",
   "id": "01d5849b-0b7f-468d-9598-e3d394202242",
   "metadata": {},
   "source": [
    "### 템플릿 파일 지정\n",
    "- 127.0.0.1:8000/blog/ 로 접속하면 post_list.html이 필요하다고 함\n",
    "    - 장고가 제공하는 ListView는 \"모델명_list\" 이름의 html파일을 기본 템플릿으로 사용함\n",
    "        - 즉, Post모델을 사용하려면 post_list.html 이 필요\n",
    "            - PostList 클래스에서 template_name을 직접 지정하거나\n",
    "            - post_list.html을 만들어서 해결 가능"
   ]
  },
  {
   "cell_type": "markdown",
   "id": "33d9c55e-dac3-4de3-9362-94d27a8dfff4",
   "metadata": {},
   "source": [
    "#### template_name을 지정하는 방법"
   ]
  },
  {
   "cell_type": "markdown",
   "id": "d843e126-c98a-4004-992c-e6c9f095eab3",
   "metadata": {},
   "source": [
    "- FBV에서는 딕셔너리로 posts 이름으로 데이터를 전달 했는데 ListView 클래스에서는 \"모델명_list\" 또는 \"object_list\"이름으로 전달함"
   ]
  },
  {
   "cell_type": "markdown",
   "id": "a0fb5463-6fbc-4ae4-92d0-c9e6a18f35f2",
   "metadata": {
    "tags": []
   },
   "source": [
    "#### post_list.html을 만들어서 해결하는 방법\n",
    "- views의 template_name 삭제 후\n",
    "- blog/templates/blog/index.html 의 파일명을 post_list.html로 수정"
   ]
  },
  {
   "cell_type": "markdown",
   "id": "32ec4708-0944-40bb-9006-7b2c9e8734ad",
   "metadata": {},
   "source": [
    "### 최신 포스트부터 보여주기\n",
    "- 장고 ListView의 ordering 변수는 정렬 기능을 구현\n",
    "    - ordering = \"-pk\"\n",
    "        - pk의 내림차순으로 정렬"
   ]
  },
  {
   "cell_type": "markdown",
   "id": "826b49a5-9c66-44bf-84c7-703e39a394c5",
   "metadata": {},
   "source": [
    "## CBV로 포스트 상세 페이지 작성"
   ]
  },
  {
   "cell_type": "markdown",
   "id": "b4313182-900f-4a44-b311-7c39da84ad76",
   "metadata": {},
   "source": [
    "### DetailView로 포스트 상세 페이지 작성\n",
    "- 한 데이터를 상세포기 할 때는 DetailView를 이용"
   ]
  },
  {
   "cell_type": "markdown",
   "id": "714f602b-7f4a-4ccb-873a-0b84b5a46d56",
   "metadata": {},
   "source": [
    "### urls.py 수정\n",
    "- 도메인/blog/정수/ 형태의 URL인 경우 PostDetail 클래스를 이용하도록 수정"
   ]
  },
  {
   "cell_type": "markdown",
   "id": "ade5a6db-2bac-4cd0-8778-33e079db2b43",
   "metadata": {},
   "source": [
    "### 템플릿 파일 지정\n",
    "- PostDetail클래스에서 template_name을 수정해 해결할 수도 있고\n",
    "- single_post_page.html 의 파일명을 post_detail.html 로 수정할 수도 있음"
   ]
  }
 ],
 "metadata": {
  "kernelspec": {
   "display_name": "Python 3 (ipykernel)",
   "language": "python",
   "name": "python3"
  },
  "language_info": {
   "codemirror_mode": {
    "name": "ipython",
    "version": 3
   },
   "file_extension": ".py",
   "mimetype": "text/x-python",
   "name": "python",
   "nbconvert_exporter": "python",
   "pygments_lexer": "ipython3",
   "version": "3.10.9"
  }
 },
 "nbformat": 4,
 "nbformat_minor": 5
}
