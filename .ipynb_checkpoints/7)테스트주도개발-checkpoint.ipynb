{
 "cells": [
  {
   "cell_type": "markdown",
   "id": "8d30a530-29ec-451c-9f61-29e2c542472e",
   "metadata": {},
   "source": [
    "# 테스트 주도 개발(Test driven development : TDD)\n",
    "<img src=\"./img/tdd_img.png\" style=\"width:100%\">"
   ]
  },
  {
   "cell_type": "markdown",
   "id": "286878fd-108e-450e-bc3e-f35b68e841b6",
   "metadata": {},
   "source": []
  },
  {
   "cell_type": "markdown",
   "id": "ba0e9a87-e8d8-424c-a204-a8a5c7f0fe25",
   "metadata": {},
   "source": []
  },
  {
   "cell_type": "markdown",
   "id": "a6b8e33c-9cce-422a-ba7b-c24421f4d4a0",
   "metadata": {},
   "source": []
  },
  {
   "cell_type": "markdown",
   "id": "a0e50277-97af-49ca-895f-0ce80854b848",
   "metadata": {},
   "source": []
  },
  {
   "cell_type": "markdown",
   "id": "c8d90069-d44a-4190-a778-a395a4602f47",
   "metadata": {},
   "source": []
  },
  {
   "cell_type": "markdown",
   "id": "50f395b0-1902-424d-b9aa-7b1e60964e73",
   "metadata": {},
   "source": []
  },
  {
   "cell_type": "markdown",
   "id": "50831143-ce6b-4ba9-b959-b10b2e1c0cbe",
   "metadata": {},
   "source": []
  },
  {
   "cell_type": "markdown",
   "id": "74cd96d3-8a36-45be-96cd-90c736ce2565",
   "metadata": {},
   "source": []
  },
  {
   "cell_type": "markdown",
   "id": "c94873e0-2c0b-422a-bf37-c40e88467e62",
   "metadata": {},
   "source": []
  },
  {
   "cell_type": "markdown",
   "id": "8e4bb610-5f4b-4822-81cb-7a36e6b91b7b",
   "metadata": {},
   "source": []
  },
  {
   "cell_type": "markdown",
   "id": "942fa105-a6a2-4860-b96d-db93fdd8eb5a",
   "metadata": {},
   "source": []
  },
  {
   "cell_type": "markdown",
   "id": "2cdbb21b-3ce4-4078-bc0b-193581f5002c",
   "metadata": {},
   "source": []
  },
  {
   "cell_type": "markdown",
   "id": "914d39b8-099d-4a1a-8c06-357967d537b2",
   "metadata": {},
   "source": []
  },
  {
   "cell_type": "markdown",
   "id": "af5a3a74-35c9-4f56-9e9b-ddec47a76d9a",
   "metadata": {},
   "source": []
  },
  {
   "cell_type": "markdown",
   "id": "f13436f7-c5d5-40a4-8bde-948f84025463",
   "metadata": {},
   "source": []
  },
  {
   "cell_type": "markdown",
   "id": "11d87c27-d495-4b98-8e51-7d0df090333e",
   "metadata": {},
   "source": []
  },
  {
   "cell_type": "markdown",
   "id": "a366d96c-a180-4db2-a87c-df5d5d630a20",
   "metadata": {},
   "source": []
  },
  {
   "cell_type": "markdown",
   "id": "f33010bc-f623-4c4a-849d-cf9c5076675b",
   "metadata": {},
   "source": []
  },
  {
   "cell_type": "markdown",
   "id": "1d725ed5-101b-4e87-8607-a6287fb75f71",
   "metadata": {},
   "source": []
  },
  {
   "cell_type": "markdown",
   "id": "3886de35-2538-46ff-8ab5-735037c4af5c",
   "metadata": {},
   "source": []
  },
  {
   "cell_type": "markdown",
   "id": "993de40f-df37-4131-8513-2db269f13414",
   "metadata": {},
   "source": []
  }
 ],
 "metadata": {
  "kernelspec": {
   "display_name": "Python 3 (ipykernel)",
   "language": "python",
   "name": "python3"
  },
  "language_info": {
   "codemirror_mode": {
    "name": "ipython",
    "version": 3
   },
   "file_extension": ".py",
   "mimetype": "text/x-python",
   "name": "python",
   "nbconvert_exporter": "python",
   "pygments_lexer": "ipython3",
   "version": "3.10.9"
  }
 },
 "nbformat": 4,
 "nbformat_minor": 5
}
