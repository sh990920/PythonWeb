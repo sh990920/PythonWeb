{
 "cells": [
  {
   "cell_type": "markdown",
   "id": "52887a2f-4901-4532-b2a5-f8bd5af597c4",
   "metadata": {},
   "source": [
    "# 장고 프로젝트 생성\n",
    "- 명령어 : django-admin startproject 프로젝트이름 .\n",
    "    - 프로젝트를 생성하는 명령어\n",
    "    - 맨 마지막의 닷(.)은 \"이 폴더에 프로젝트를 만든다\"라는 의미"
   ]
  },
  {
   "cell_type": "code",
   "execution_count": null,
   "id": "cae69792-d970-4cf3-af41-2a55cf581e72",
   "metadata": {},
   "outputs": [],
   "source": [
    "# 프로젝트명 dajngo_prj 로 장고프로젝트 생성하기\n",
    "\n",
    "# 잘 생성되었다면 WebProject4폴더 아래 django_prj 폴더와 manage.py 파일이 생성됨"
   ]
  },
  {
   "cell_type": "markdown",
   "id": "d0895cc1-6e92-46b4-a9a5-636baed7246c",
   "metadata": {},
   "source": [
    "## 서버 실행\n",
    "- 명령어 : python manage.py runserver\n",
    "    - 서버를 실행하는 명령어\n",
    "    - 아직 마이그레이션을 하지 않았다는 오류 메세지가 나타날 수 있음\n",
    "        - 하지만 프로젝트 생성 확인에는 문제 없음"
   ]
  },
  {
   "cell_type": "markdown",
   "id": "f5a9a7ff-935d-4cc0-a7c8-c2decf027572",
   "metadata": {},
   "source": [
    "- django_prj 폴더\n",
    "    - urls.py\n",
    "        - 사용자가 어떤 url 형식으로 접근했을 때 어떻게 웹 사이트를 작동시킬지 정리해놓은 파일\n",
    "    - settings.py\n",
    "        - 장고 프로젝트의 설정을 담고 있는 파일"
   ]
  },
  {
   "cell_type": "markdown",
   "id": "cb4a2771-c8c6-4b23-a305-06a42f8ff004",
   "metadata": {},
   "source": [
    "## 데이터베이스에 관리자 계정 생성\n",
    "- 마이그레이션(migration)\n",
    "    - 데이터베이스에 적용시켜야하는 변화에 대한 기록\n",
    "    - 아직 아무 기능도 없는데 마이그레이션이 필요한 이유는 장고에서 새 프로젝트를 생성할 때 데이터베이스에 기본적으로 필요한 테이블을 미리 마련해두기 때문\n",
    "    - 명령어\n",
    "        - python manage.py makemigrations\n",
    "        - 마이그레이션 생성\n",
    "        - python manage.py migrate\n",
    "        - 마이그레이션 적용\n",
    "- 관리자계정(superuser)\n",
    "    - 생성 명령어\n",
    "        - python manage.py createsuperuser"
   ]
  },
  {
   "cell_type": "markdown",
   "id": "d07a5ad6-26ab-4ac2-9aa7-191dab1e5562",
   "metadata": {},
   "source": [
    "- 아무 페이지를 만들지 않아도 장고에서 기본 관리자 페이지를 생성해줌\n",
    "- Users에는 방금 만든 관리자 계정이 등록되어있음"
   ]
  },
  {
   "cell_type": "markdown",
   "id": "12445475-4ed6-40b9-abb4-1917169e201a",
   "metadata": {},
   "source": [
    "# 앱 생성\n",
    "- 모든 장고 프로젝트는 1개 이상의 앱으로 구성됨\n",
    "    - 앱은 특정한 기능을 수행하는 단위 모듈\n",
    "        - 예) 블로그, 갤러리, 방명록의 기능을 갖는 웹사이트를 만든다면 3개의 앱을 만들어 개발 및 관리\n",
    "\n",
    "- 앱 생성 명령어\n",
    "    - python manage.py startapp 앱이름\n",
    "    - 현재 위치에 앱 폴더가 생성됨"
   ]
  },
  {
   "cell_type": "code",
   "execution_count": 1,
   "id": "9537632c-9f63-4ded-8967-7d512ab5f3fa",
   "metadata": {},
   "outputs": [],
   "source": [
    "# 블로그기능을 위한 앱 blog 와 대문 페이지와 자기소개 페이지를 보여주기 위한 앱 single_pages 앱을 생성하기"
   ]
  },
  {
   "cell_type": "markdown",
   "id": "d7dc103f-68fd-46f7-8d3e-f846382a1c86",
   "metadata": {},
   "source": [
    "# 모델 생성\n",
    "- 장고는 모델을 이용해 데이터베이스를 관리할 수 있음\n",
    "- 모델은 데이터를 저장하기 위한 하나의 단위\n",
    "- 장고의 모델을 이용하면 SQL없이 파이썬 코드만으로 CRUD기능을 쉽게 구현할 수 있으며 관리자 페이지, 데이터 입력 폼 등도 쉽게 만들 수 있음"
   ]
  },
  {
   "cell_type": "markdown",
   "id": "39b26889-657f-462c-9431-cb647d6f145a",
   "metadata": {},
   "source": [
    "## Post 모델 생성\n",
    "- 블로그의 포스트의 형태를 정의하는 모델\n",
    "    - 제목, 내용, 작성일, 작성자 정보가 필요함"
   ]
  },
  {
   "cell_type": "markdown",
   "id": "378a3386-a55a-49f8-ba4c-1517433292a2",
   "metadata": {},
   "source": [
    "- models 모듈의 Model 클래스를 상속받아 생성\n",
    "\n",
    "- 제목(title)\n",
    "    - 문자 데이터를 담는 필드\n",
    "    - 최대 길이 30\n",
    "- 글 내용(content)\n",
    "    - 길이 제한이 없는 문자열\n",
    "- 작성일(created_at)\n",
    "    - 날짜 + 시간\n",
    "- 작성자(author)\n",
    "    - 추후에 모델에서 외래키를 구현하면서 작성 예정"
   ]
  },
  {
   "cell_type": "markdown",
   "id": "7da19b24-ba1d-48c4-ba40-14530c41072b",
   "metadata": {},
   "source": [
    "## 데이터베이스에 Post 모델 반영\n",
    "- 현재 Post모델은 파이썬 클래스로만 존재\n",
    "    - 데이터베이스에 반영해야 실제 테이블이 생성됨"
   ]
  },
  {
   "cell_type": "markdown",
   "id": "a82dfe84-240b-44cc-a3db-99e46502ea36",
   "metadata": {},
   "source": [
    "- makemigrations를 실행해도 Mo Changes detected 라는 메세지가 출력됨\n",
    "- 프로젝트 폴더의 settings.py에 blog 앱을 등록하지 않았기 때문에 프로젝트에서 변경사항을 체크하지 않음"
   ]
  },
  {
   "cell_type": "markdown",
   "id": "b8d3dcde-2126-4e7e-a07c-a6e8e0db1601",
   "metadata": {},
   "source": [
    "### settings.py에 앱 등록"
   ]
  }
 ],
 "metadata": {
  "kernelspec": {
   "display_name": "Python 3 (ipykernel)",
   "language": "python",
   "name": "python3"
  },
  "language_info": {
   "codemirror_mode": {
    "name": "ipython",
    "version": 3
   },
   "file_extension": ".py",
   "mimetype": "text/x-python",
   "name": "python",
   "nbconvert_exporter": "python",
   "pygments_lexer": "ipython3",
   "version": "3.10.9"
  }
 },
 "nbformat": 4,
 "nbformat_minor": 5
}
