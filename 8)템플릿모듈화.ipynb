{
 "cells": [
  {
   "cell_type": "markdown",
   "id": "30bf02dc-8fc1-4a5f-be7d-edf32a587532",
   "metadata": {},
   "source": [
    "# 템플릿 모듈화를 하는 이유\n",
    "\n",
    "- 메인 영역을 제외한 내비게이션 바, 사이드 영역, 푸터 등의 영역은 일관되게 유지되어야 함\n",
    "- 하나의 페이지에 메인 영역을 뺀 나머지 영역을 만들어 놓고 메인 영역만 채워주는 방식이 편리하기 때문"
   ]
  },
  {
   "cell_type": "markdown",
   "id": "607e6e84-60d4-4432-8a7f-8c919f64bb44",
   "metadata": {},
   "source": [
    "## post_list.html 모듈화\n",
    "\n",
    "- 공통 영역을 남기기 위한 base.html 만들기\n",
    "    - post_list.html에서 메인 영역을 삭제한 후 공통영역만 남겨서 base.html로 저장\n",
    "    - 그리고 main_area 블록 설정"
   ]
  },
  {
   "cell_type": "markdown",
   "id": "37be4e12-a951-4b74-9836-26adc249f475",
   "metadata": {},
   "source": [
    "### base.html을 확장해 post_list.html 넣기\n",
    "\n",
    "- post_list.html은 block안에 들어가는 요소만 있으면 되므로 base.html에서 지웠던 부분만 남기고 나머지 전부 삭제\n",
    "- extends 로 블록의 시작과 끝을 알려줌\n",
    "    - base.html의 main_area블록을 post_list.html 의 블록에 있는 내용으로 채움"
   ]
  },
  {
   "cell_type": "markdown",
   "id": "a7f36180-cbc0-42a7-8a98-c207c751755a",
   "metadata": {},
   "source": [
    "### 수정 결과 확인\n",
    "\n",
    "- test_post_list() 함수의 테스트 항목을 모두 통과하는지 확인\n",
    "    - 명령어 : python manage.py test blog.tests.TestView.test_post_list"
   ]
  },
  {
   "cell_type": "markdown",
   "id": "2cf04711-8605-4b1e-85d2-d7521f5e631b",
   "metadata": {},
   "source": [
    "## post_detail.html 모듈화\n",
    "\n",
    "- post_detail.html에서 메인 영역에 해당하는 부분만 남기고 다 지운 후 블록을 지정\n",
    "    - \\<div class=\"col-lg-8\"> 안에 있는 내용만 남기고 나머지는 삭제"
   ]
  },
  {
   "cell_type": "markdown",
   "id": "130fe2fe-9592-4f8a-84df-b96829af0cbe",
   "metadata": {},
   "source": [
    "### 제목 블록을 따로 만들기\n",
    "\n",
    "- 웹 브라우저 위쪽에 나타나는 타이틀이 없어서 테스트 실패\n",
    "    - title 태그는 head 태그 안에 있고, head 태그는 post_list.html과 공유하고 있어서 base.html을 수정하기 곤란함"
   ]
  },
  {
   "cell_type": "markdown",
   "id": "e6e0b133-3ee1-485d-97e5-9ae15d8cad07",
   "metadata": {},
   "source": [
    "### post_detail.html에서 포스트 영역과 댓글 영역 구분\n",
    "\n",
    "- id가 post-area인 영역을 정의하지 않았기 때문에 테스트 실패\n",
    "    - 포스트 영역에는 id=\"post-area\" 인 div 태그\n",
    "    - 댓글 영역에는 id=\"comment-area\" 인 div 태그로 설정"
   ]
  },
  {
   "cell_type": "markdown",
   "id": "17520936-071c-432c-b3f5-2846abd28d9d",
   "metadata": {},
   "source": [
    "## 내비게이션 바와 푸터 모듈화\n",
    "\n",
    "- 지금까지는 테스트코드에서 내비게이션 바에 Blog와 About me 라는 문구가 있는지만 확인했기 때문에 URL이 제대로 설정되어 있지 않아도 테스트를 통과했음"
   ]
  },
  {
   "cell_type": "markdown",
   "id": "8833d814-7f46-49ad-bfec-9193a741fb4b",
   "metadata": {},
   "source": [
    "### 내비게이션 바 버튼에 링크 추가\n",
    "\n",
    "- base.html의 내비게이션 바 소스 코드의 href값이 현재의 웹 프로젝트와 맞지 않음\n",
    "    - 이 부분을 urls.py에서 처리할 수 있도록 수정"
   ]
  },
  {
   "cell_type": "markdown",
   "id": "b8ae35af-1eb4-4aec-a615-41538512d6cf",
   "metadata": {},
   "source": [
    "### 테스트 코드 작성\n",
    "\n",
    "- 내비게이션 바에 \"Blog\"와 \"About me\"가 있는지 확인하는 내용이 test_post_list()함수와 test_post_detail() 함수에 동일하게 들어 있는데 똑같은 코드를 양쪽에서 반복해서 사용할 필요는 없음\n",
    "    - 내비게이션 바를 테스트 하는 함수를 별도로 작성\n",
    "    \n",
    "- 내비게이션 바 테스트 함수 navbar_test() 작성"
   ]
  },
  {
   "cell_type": "markdown",
   "id": "77ee5a52-e20e-4190-9a76-4d583748d725",
   "metadata": {},
   "source": [
    "### 내비게이션 바 버튼의 href 링크 테스트 코드 작성\n",
    "\n",
    "- Django 또는 Home 버튼을 클릭하면 대문 페이지(127.0.0.1:8000/)\n",
    "- Blog 버튼을 클릭하면 포스트 목록 페이지(127.0.0.1:8000/blog/)\n",
    "- About me 버튼을 클릭하면 자기소개 페이지(127.0.0.1:8000/about_me/)"
   ]
  },
  {
   "cell_type": "markdown",
   "id": "a5a7a6c4-c634-453c-ad6c-941e487fcd80",
   "metadata": {},
   "source": [
    "## 내비게이션 바와 푸터 모듈화\n",
    "\n",
    "- 웹 사이트의 디자인 통일성을 위해 내비게이셔 바와 푸터는 대문페이지, 자기소개 페이지에도 적용되어야 함\n",
    "\n",
    "- navbar.html을 만든 후 base.html의 nav태그부터 모달 관련 코드까지 옮겨오기\n",
    "\n",
    "- base.html 에서 빈 곳에 {% include \"blog/navbar.html\" %} 채워 넣기\n",
    "    - base.html 을 사용할 때 해당 위치에 navbar.html의 내용을 그대로 가져와서 붙여넣는 것과 동일한 효과를 얻을 수 있음"
   ]
  },
  {
   "cell_type": "markdown",
   "id": "b2d37f31-f780-4851-ae6c-fdfc25b3bb68",
   "metadata": {},
   "source": [
    "### 푸터 모듈화\n",
    "\n",
    "- base.html 에서 footer 태그 내용을 잘라내고 모듈화"
   ]
  }
 ],
 "metadata": {
  "kernelspec": {
   "display_name": "Python 3 (ipykernel)",
   "language": "python",
   "name": "python3"
  },
  "language_info": {
   "codemirror_mode": {
    "name": "ipython",
    "version": 3
   },
   "file_extension": ".py",
   "mimetype": "text/x-python",
   "name": "python",
   "nbconvert_exporter": "python",
   "pygments_lexer": "ipython3",
   "version": "3.10.9"
  }
 },
 "nbformat": 4,
 "nbformat_minor": 5
}
