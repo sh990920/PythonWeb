{
 "cells": [
  {
   "cell_type": "markdown",
   "id": "857eb2e4-dcc8-41e9-8798-aef49fb84561",
   "metadata": {
    "tags": []
   },
   "source": [
    "# 현재 포스트 목록 페이지의 문제점\n",
    "- 대표 이미지가 없는 포스트가 하나라도 있으면 포스트 목록 페이지에서 오류가 발생\n",
    "- 포스트의 본문 전체를 다 보여주는데 장문의 포스트가 있으면 첫 페이지에서 원하는 게시글을 빠르게 찾기 어려움\n",
    "    - 본문 앞 부분만 보여주는 미리보기 기능 필요"
   ]
  },
  {
   "cell_type": "markdown",
   "id": "bacdd90b-bc0a-4359-97e7-de2c910efc13",
   "metadata": {
    "tags": []
   },
   "source": [
    "## 조건에 따라 이미지 보이기\n",
    "\n",
    "- if 문으로 head_image가 있을 때만 img 태그를 표현\n",
    "\n",
    "- img태그의 alt속성 : 이미지를 보여줄 수 없을 때 이미지 대신 나타나게 하는 텍스트\n",
    "    - 제대로 웹 사이트가 동작하고 있다면 필요없지만 만약의 경우에 대비해야함"
   ]
  },
  {
   "cell_type": "markdown",
   "id": "dd14cda2-7ad7-4a71-929b-3e0752d5aa12",
   "metadata": {},
   "source": [
    "### 이미지가 없을 경우에 사용할 임의의 이미지 가져오기\n",
    "\n",
    "- 이미지가 없음 경우 임의의 더미이미지를 보여주기\n",
    "\n",
    "- Lorem Picsum\n",
    "    - url로 \"https://picsum.photos/가로픽셀수/세로픽셀수\" 를 입력하면 임의로 지정한 크기의 이미지를 보내줌"
   ]
  },
  {
   "cell_type": "markdown",
   "id": "ae0f5a44-e133-4fc0-88fc-c75c497515d3",
   "metadata": {},
   "source": [
    "### 임의로 나타나는 이미지 고정하기\n",
    "- 문제\n",
    "    - 임의의 이미지의 첫 번째 문제는 웹 브라우저를 새로고침 할 때마다 이미지가 바뀐다는 것\n",
    "        - 웹 사이트를 방문하는 사람 입장에서는 새로운 포스트가 업로드된 것으로 착각할 수 있음\n",
    "    - 두 번째 문제는 이미지가 없는 포스트가 여러 개 있을 때 모두 똑같은 이미지를 보여준다는 것\n",
    "    \n",
    "- 해결 방법\n",
    "    - https://picsum.photos/seed/id값/800/200 을 입력하면 해당 id값으 가지는 위치에 매번 동일한 이미지를 나타냄\n",
    "    - 각 post 데이터마다 고유한 pk값을 가지기 때문에 URL의 id값 부분에 포스트의 id(pk)를 넣으면 고정된 결과를 얻을 수 있음"
   ]
  },
  {
   "cell_type": "markdown",
   "id": "d893e78c-4e65-4f83-a186-d071e6bcf3aa",
   "metadata": {},
   "source": [
    "### 포스트 상세 페이지 수정\n",
    "\n",
    "- 상세페이지에 if문과 picsum을 사용하여 오류 수정\n",
    "    - head_image가 있으면 이미지 출력\n",
    "    - head_iamge가 없으면 picsum에서 고유한 랜덤 이미지를 출력"
   ]
  },
  {
   "cell_type": "markdown",
   "id": "16faff90-b028-41e1-9159-a6b860f16d9e",
   "metadata": {},
   "source": [
    "## 첨부 파일이 있는 경우 다운로드 버튼 만들기\n",
    "\n",
    "- file_upload 필드를 추가해서 파일 첨부 기능을 구현했지만 현재는 관리자페이지에서만 확인 가능함\n",
    "- if문을 사용해서 첨부 파일이 있는 경우에는 다운로드 버튼이 보이도록 템플릿(post_detail.html)을 수정"
   ]
  },
  {
   "cell_type": "markdown",
   "id": "ea743a02-d3f2-4ef7-ba99-380688da857b",
   "metadata": {},
   "source": [
    "### 첨부 파일명과 확장자 아이콘 나타내기\n",
    "\n",
    "- 지금은 사용자가 어떤 파일을 다운받는지 알 수 없음\n",
    "- models.py 에서 파일명을 찾아내는 get_file_name()함수와 확장자를 찾아내는 get_file_ext()함수를 작성\n",
    "    - os.path.basename() : 파일명만 반환하는 함수"
   ]
  },
  {
   "cell_type": "markdown",
   "id": "ec79bc5b-262f-4428-991c-b239df41fc4e",
   "metadata": {},
   "source": [
    "- font awesome 의 아이콘을 사용하기 위해서 head 태그안에 kit code 를 입력\n",
    "    - post.list 의 head 태그를 참고\n",
    "    \n",
    "- Font awesome에서 excel, word 확장자에 맞는 아이콘을 골라 확장자마다 다른 아이콘을 사용하기 위해 if문을 적용\n",
    "- post.get_file_name 으로 파일명을 출력"
   ]
  },
  {
   "cell_type": "markdown",
   "id": "dd455dbb-2872-4543-b959-1a73a23fc7d6",
   "metadata": {},
   "source": [
    "## 템플릿 필터를 사용해서 포스트 미리보기 기능 구현\n",
    "\n",
    "- 포스트 목록에서 본문 내용 전체를 보여줄 경우 본문이 너무 길다면 포스트 목록을 한눈에 살펴보기 어려움\n",
    "- 요약문이나 내용의 앞부분 일부만 보여주는 미리보기 기능을 장고에서 제공함\n",
    "    - truncatewords 또는 truncatechars 를 사용\n",
    "        - truncatewords : 문자열을 단어 수 기준으로 자름\n",
    "        - truncatechars : 문자열을 글자 수 기준으로 자름"
   ]
  },
  {
   "cell_type": "markdown",
   "id": "272aee25-ad36-4195-981d-3b6f2e6a41aa",
   "metadata": {},
   "source": [
    "### 요약문 필드 만들기\n",
    "\n",
    "- models.py 에 요약문 필드를 추가해 요약문이 비어있지 않으면 본문 대신 요약문을 보여주도록 설정"
   ]
  },
  {
   "cell_type": "markdown",
   "id": "b77ec823-ffe9-4599-a8e4-3cdca9eb9b39",
   "metadata": {},
   "source": [
    "### 마이그레이션 후 템플릿 수정\n",
    "\n",
    "- post_list.html 수정\n",
    "    - class=\"text-muted\" 를 추가하면 글씨가 회색으로 나타남"
   ]
  },
  {
   "cell_type": "markdown",
   "id": "433093b5-aa45-4b55-bc06-794e72c0ae8e",
   "metadata": {},
   "source": [
    "### 포스트 상세 페이지 수정\n",
    "\n",
    "- 포스트 제목 바로 아래에 포스트 목록 페이지와 마찬가지로 요약문 출력"
   ]
  }
 ],
 "metadata": {
  "kernelspec": {
   "display_name": "Python 3 (ipykernel)",
   "language": "python",
   "name": "python3"
  },
  "language_info": {
   "codemirror_mode": {
    "name": "ipython",
    "version": 3
   },
   "file_extension": ".py",
   "mimetype": "text/x-python",
   "name": "python",
   "nbconvert_exporter": "python",
   "pygments_lexer": "ipython3",
   "version": "3.10.9"
  }
 },
 "nbformat": 4,
 "nbformat_minor": 5
}
